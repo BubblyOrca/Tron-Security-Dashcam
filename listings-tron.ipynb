{
 "cells": [
  {
   "cell_type": "code",
   "execution_count": 2,
   "id": "f2f36a46",
   "metadata": {},
   "outputs": [
    {
     "name": "stdout",
     "output_type": "stream",
     "text": [
      "{\"data\":[{\"id\":1001287,\"abbr\":\"TTX1\",\"description\":\"\",\"name\":\"Tatumtx11\",\"num\":1,\"precision\":6,\"url\":\"mytoken.com\",\"total_supply\":100000000000,\"trx_num\":1,\"vote_score\":0,\"owner_address\":\"418db9a2af5b9f27173f1cfff4c779e8d0d769630d\",\"start_time\":1657716789362,\"end_time\":1657716829362},{\"id\":1001286,\"abbr\":\"TTX1\",\"description\":\"\",\"name\":\"Tatumtx11\",\"num\":1,\"precision\":6,\"url\":\"mytoken.com\",\"total_supply\":100000000000,\"trx_num\":1,\"vote_score\":0,\"owner_address\":\"4160670cbc9a884c087070ff5cb34bf43b6d351026\",\"start_time\":1657716770863,\"end_time\":1657716810863},{\"id\":1001285,\"abbr\":\"TTX1\",\"description\":\"\",\"name\":\"Tatumtx11\",\"num\":1,\"precision\":6,\"url\":\"mytoken.com\",\"total_supply\":100000000000,\"trx_num\":1,\"vote_score\":0,\"owner_address\":\"4118984560d3136227d5ba88096154fcd6c4c3a4ac\",\"start_time\":1657716654683,\"end_time\":1657716694683},{\"id\":1001284,\"abbr\":\"TTX1\",\"description\":\"\",\"name\":\"Tatumtx11\",\"num\":1,\"precision\":6,\"url\":\"mytoken.com\",\"total_supply\":100000000000,\"trx_num\":1,\"vote_score\":0,\"owner_address\":\"41a71c6ef4ca9f273c486ebff7a655aaf5b19bf4aa\",\"start_time\":1657716530928,\"end_time\":1657716570928},{\"id\":1001283,\"abbr\":\"TTX1\",\"description\":\"\",\"name\":\"Tatumtx11\",\"num\":1,\"precision\":6,\"url\":\"mytoken.com\",\"total_supply\":100000000000,\"trx_num\":1,\"vote_score\":0,\"owner_address\":\"41e1d58031da47f357a8d926fd77eaf696ec901036\",\"start_time\":1657716302638,\"end_time\":1657716342638},{\"id\":1001282,\"abbr\":\"lucky666\",\"description\":\"\",\"name\":\"Luckycom\",\"num\":1000000,\"precision\":0,\"url\":\"https://lucky66.com\",\"total_supply\":1000000000,\"trx_num\":1000000,\"vote_score\":0,\"owner_address\":\"41f90613414061c75a467943d522a21163bada6504\",\"start_time\":1657123200000,\"end_time\":1657209600000},{\"id\":1001281,\"abbr\":\"TT\",\"description\":\"\",\"name\":\"TestToken\",\"num\":1,\"precision\":6,\"url\":\"www.baidu.com\",\"total_supply\":1000000000,\"trx_num\":1,\"vote_score\":0,\"owner_address\":\"41224f8f78ddb76bc500f87a1a3b458be0b502dd88\",\"start_time\":1657094400000,\"end_time\":1751788800000},{\"id\":1001280,\"abbr\":\"usdd\",\"description\":\"\",\"name\":\"usdd\",\"num\":1,\"precision\":6,\"url\":\"www.baidu.com\",\"total_supply\":1000000000000000,\"trx_num\":1,\"vote_score\":0,\"owner_address\":\"4124038236a2715d1c3e5ff4014f914ffa85dc1831\",\"start_time\":1657009483532,\"end_time\":1757009090000},{\"id\":1001279,\"abbr\":\"BTOLD\",\"description\":\"\",\"name\":\"BTOLD\",\"num\":8000000,\"precision\":6,\"url\":\"https://www.bittorrent.com/token/bittorrent-speed/\",\"total_supply\":990000000000000000,\"trx_num\":100000000,\"vote_score\":0,\"owner_address\":\"41f9ed87d51341fa864d79ee2d30a9d274d14d0345\",\"start_time\":1656604800000,\"end_time\":1656691200000},{\"id\":1001278,\"abbr\":\"uthash8come\",\"description\":\"\",\"name\":\"uthash8com\",\"num\":2000000,\"precision\":6,\"url\":\"https://uthash.com\",\"total_supply\":10000000000000,\"trx_num\":1000000,\"vote_score\":0,\"owner_address\":\"4113f5ef308f5eba27e38c9fd18f971edcffc1f3f0\",\"start_time\":1656176400000,\"end_time\":1656262800000},{\"id\":1001277,\"abbr\":\"ut888\",\"description\":\"\",\"name\":\"utfly\",\"num\":1000000,\"precision\":6,\"url\":\"https://uthash.com\",\"total_supply\":10000000000000,\"trx_num\":1000000,\"vote_score\":0,\"owner_address\":\"41fa265b35ec5795f491402a5889d5bd90e0abd6bc\",\"start_time\":1656176400000,\"end_time\":1656262800000},{\"id\":1001276,\"abbr\":\"ut\",\"description\":\"\",\"name\":\"utest88\",\"num\":100000000,\"precision\":6,\"url\":\"https://uthash.com\",\"total_supply\":10000000000000,\"trx_num\":100000000,\"vote_score\":0,\"owner_address\":\"41190b0827960bf69fa14e945a428aaff0366c5ef9\",\"start_time\":1656090000000,\"end_time\":1656176400000},{\"id\":1001275,\"abbr\":\"MT\",\"description\":\"\",\"name\":\"MateT10\",\"num\":1,\"precision\":6,\"url\":\"https://metabazaar.vip/\",\"total_supply\":50000000000000,\"trx_num\":1,\"vote_score\":0,\"owner_address\":\"4179b463562f16a01a60f400b0623d8d3aa1b288c0\",\"start_time\":1655341766565,\"end_time\":4102444800000},{\"id\":1001274,\"abbr\":\"HTT\",\"description\":\"\",\"name\":\"H_T10\",\"num\":1,\"precision\":6,\"url\":\"https://metabazaar.vip/\",\"total_supply\":30000000000000,\"trx_num\":1,\"vote_score\":0,\"owner_address\":\"410b60acb96828215c0dea5df02975f145e15f8821\",\"start_time\":1655296677533,\"end_time\":4102444800000},{\"id\":1001273,\"abbr\":\"HT10\",\"description\":\"\",\"name\":\"HCJ_T10\",\"num\":1,\"precision\":6,\"url\":\"https://metabazaar.vip/\",\"total_supply\":30,\"trx_num\":1,\"vote_score\":0,\"owner_address\":\"41e997dc0ca4f9960857f864181e4b7609e8b9242d\",\"start_time\":1655296677533,\"end_time\":4102444800000},{\"id\":1001272,\"abbr\":\"Finso\",\"description\":\"\",\"name\":\"Finso\",\"num\":40000,\"precision\":4,\"url\":\"https://finso.club\",\"total_supply\":1000000000000000,\"trx_num\":1000000,\"vote_score\":0,\"owner_address\":\"4114c80f359e97cca7ff178f4cea8571d203bb8eef\",\"start_time\":1655317800000,\"end_time\":1655404200000},{\"id\":1001271,\"abbr\":\"luckywallet.vip\",\"description\":\"\",\"name\":\"LHAO\",\"num\":1,\"precision\":6,\"url\":\"luckywallet.vip\",\"total_supply\":1,\"trx_num\":1,\"vote_score\":0,\"owner_address\":\"4139446bb22e426a412775c8c23dc02032329a46c2\",\"start_time\":1655289190000,\"end_time\":1980987010000},{\"id\":1001270,\"abbr\":\"LHAO\",\"description\":\"\",\"name\":\"aaa\",\"num\":1,\"precision\":6,\"url\":\"www.baidu.com\",\"total_supply\":100000000000000000,\"trx_num\":1,\"vote_score\":0,\"owner_address\":\"41dd3fe9368523adb419a07a605bcc069b51d8b37b\",\"start_time\":1655247600000,\"end_time\":1681047110000},{\"id\":1001269,\"abbr\":\"PODT\",\"description\":\"\",\"name\":\"Podolectoken\",\"num\":10000000,\"precision\":6,\"url\":\"https://Podolectoken.com/\",\"total_supply\":999900000000000000,\"trx_num\":175000000,\"vote_score\":0,\"owner_address\":\"41a65cac7c3435309aaff1ba28987ce048436ef144\",\"start_time\":1655240400000,\"end_time\":1655326800000},{\"id\":1001268,\"abbr\":\"UND\",\"description\":\"\",\"name\":\"UNIDItesttoken\",\"num\":10000000,\"precision\":6,\"url\":\"https://UNIDItesttoken.com/\",\"total_supply\":700000000000000,\"trx_num\":161000000,\"vote_score\":0,\"owner_address\":\"41094bb43b9da72e7e76beb817bef336efac55c739\",\"start_time\":1655240400000,\"end_time\":1655326800000}],\"meta\":{\"at\":1657724808006,\"fingerprint\":\"CoonJDprQYEw9kBicXSr7QsjJAd1prv1JNmhfNVJeJ6bPRi616QVymQRdL4XL8ntNvmTrPE\",\"links\":{\"next\":\"https://api.shasta.trongrid.io/v1/assets?fingerprint=CoonJDprQYEw9kBicXSr7QsjJAd1prv1JNmhfNVJeJ6bPRi616QVymQRdL4XL8ntNvmTrPE\"},\"page_size\":20},\"success\":true}\n"
     ]
    }
   ],
   "source": [
    "import requests\n",
    "\n",
    "url = \"https://api.shasta.trongrid.io/v1/assets\"\n",
    "\n",
    "headers = {\"Accept\": \"application/json\"}\n",
    "\n",
    "response = requests.get(url, headers=headers)\n",
    "\n",
    "print(response.text)"
   ]
  },
  {
   "cell_type": "code",
   "execution_count": null,
   "id": "432ce38d",
   "metadata": {},
   "outputs": [],
   "source": []
  }
 ],
 "metadata": {
  "kernelspec": {
   "display_name": "Python 3 (ipykernel)",
   "language": "python",
   "name": "python3"
  },
  "language_info": {
   "codemirror_mode": {
    "name": "ipython",
    "version": 3
   },
   "file_extension": ".py",
   "mimetype": "text/x-python",
   "name": "python",
   "nbconvert_exporter": "python",
   "pygments_lexer": "ipython3",
   "version": "3.9.12"
  }
 },
 "nbformat": 4,
 "nbformat_minor": 5
}
