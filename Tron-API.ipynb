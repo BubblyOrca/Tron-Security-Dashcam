{
 "cells": [
  {
   "cell_type": "markdown",
   "id": "98152181-ccec-4a77-af78-1ca303ec390a",
   "metadata": {},
   "source": [
    "## Tron Security Dashcam API \n"
   ]
  },
  {
   "cell_type": "code",
   "execution_count": 18,
   "id": "919ea547-008b-44f4-b58d-5073740b94bd",
   "metadata": {},
   "outputs": [],
   "source": [
    "import requests\n",
    "import pandas as pd\n",
    "import numpy as np\n",
    "import json"
   ]
  },
  {
   "cell_type": "code",
   "execution_count": 19,
   "id": "a5d6c948-3688-4120-822b-dbcc7fa98802",
   "metadata": {},
   "outputs": [
    {
     "name": "stdout",
     "output_type": "stream",
     "text": [
      "{\"visible\":false,\"txID\":\"6a717a4714a0c1a611ec5fcfe22711b4e60e8a0b521958b5d9aaf7ab83bc9b20\",\"contract_address\":\"411602ea10135a46a2c68950ab6a8387a5f6d69870\",\"raw_data\":{\"contract\":[{\"parameter\":{\"value\":{\"owner_address\":\"41d1e7a6bc354106cb410e65ff8b181c600ff14292\",\"new_contract\":{\"origin_address\":\"41d1e7a6bc354106cb410e65ff8b181c600ff14292\",\"abi\":{}}},\"type_url\":\"type.googleapis.com/protocol.CreateSmartContract\"},\"type\":\"CreateSmartContract\"}],\"ref_block_bytes\":\"f67c\",\"ref_block_hash\":\"f93506fc8b377bfc\",\"expiration\":1657575291000,\"timestamp\":1657575233712},\"raw_data_hex\":\"0a02f67c2208f93506fc8b377bfc40f8f0bef99e305a6a081e12660a30747970652e676f6f676c65617069732e636f6d2f70726f746f636f6c2e437265617465536d617274436f6e747261637412320a1541d1e7a6bc354106cb410e65ff8b181c600ff1429212190a1541d1e7a6bc354106cb410e65ff8b181c600ff142921a0070b0b1bbf99e30\"}\n",
      "\n"
     ]
    }
   ],
   "source": [
    "url = \"https://api.trongrid.io/wallet/deploycontract\"\n",
    "\n",
    "payload = \"{\\n    \\\"to_address\\\": \\\"41e9d79cc47518930bc322d9bf7cddd260a0260a8d\\\",\\n    \\\"owner_address\\\": \\\"41D1E7A6BC354106CB410E65FF8B181C600FF14292\\\",\\n    \\\"amount\\\": 1000\\n}\"\n",
    "headers = {\n",
    "    'Content-Type': \"application/json\",\n",
    "    'TRON-PRO-API-KEY': \"8e0cc347-fa48-4518-a0da-1d41f294733f\"\n",
    "    }\n",
    "response = requests.request(\"POST\", url, data=payload, headers=headers)\n",
    "res = response.text\n",
    "print(res)"
   ]
  }
 ],
 "metadata": {
  "kernelspec": {
   "display_name": "Python 3 (ipykernel)",
   "language": "python",
   "name": "python3"
  },
  "language_info": {
   "codemirror_mode": {
    "name": "ipython",
    "version": 3
   },
   "file_extension": ".py",
   "mimetype": "text/x-python",
   "name": "python",
   "nbconvert_exporter": "python",
   "pygments_lexer": "ipython3",
   "version": "3.10.4"
  }
 },
 "nbformat": 4,
 "nbformat_minor": 5
}
